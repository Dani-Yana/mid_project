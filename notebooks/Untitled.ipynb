{
 "cells": [
  {
   "cell_type": "code",
   "execution_count": 1,
   "id": "3085ed7a-1777-4135-95e6-2380858747c4",
   "metadata": {},
   "outputs": [
    {
     "name": "stdout",
     "output_type": "stream",
     "text": [
      "Requirement already satisfied: pandas in c:\\users\\win10 pro x64\\documents\\data_weiterbildung\\ironhack\\week_5\\mid_bootcamp_project\\env_project\\lib\\site-packages (2.1.1)\n",
      "Requirement already satisfied: numpy>=1.23.2 in c:\\users\\win10 pro x64\\documents\\data_weiterbildung\\ironhack\\week_5\\mid_bootcamp_project\\env_project\\lib\\site-packages (from pandas) (1.26.0)\n",
      "Requirement already satisfied: python-dateutil>=2.8.2 in c:\\users\\win10 pro x64\\documents\\data_weiterbildung\\ironhack\\week_5\\mid_bootcamp_project\\env_project\\lib\\site-packages (from pandas) (2.8.2)\n",
      "Requirement already satisfied: pytz>=2020.1 in c:\\users\\win10 pro x64\\documents\\data_weiterbildung\\ironhack\\week_5\\mid_bootcamp_project\\env_project\\lib\\site-packages (from pandas) (2023.3.post1)\n",
      "Requirement already satisfied: tzdata>=2022.1 in c:\\users\\win10 pro x64\\documents\\data_weiterbildung\\ironhack\\week_5\\mid_bootcamp_project\\env_project\\lib\\site-packages (from pandas) (2023.3)\n",
      "Requirement already satisfied: six>=1.5 in c:\\users\\win10 pro x64\\documents\\data_weiterbildung\\ironhack\\week_5\\mid_bootcamp_project\\env_project\\lib\\site-packages (from python-dateutil>=2.8.2->pandas) (1.16.0)\n",
      "Note: you may need to restart the kernel to use updated packages.\n"
     ]
    }
   ],
   "source": [
    "pip install pandas"
   ]
  },
  {
   "cell_type": "code",
   "execution_count": 2,
   "id": "f37d0718-336d-4707-89b7-5b46b908f03e",
   "metadata": {},
   "outputs": [
    {
     "name": "stdout",
     "output_type": "stream",
     "text": [
      "Requirement already satisfied: numpy in c:\\users\\win10 pro x64\\documents\\data_weiterbildung\\ironhack\\week_5\\mid_bootcamp_project\\env_project\\lib\\site-packages (1.26.0)\n",
      "Note: you may need to restart the kernel to use updated packages.\n"
     ]
    }
   ],
   "source": [
    "pip install numpy"
   ]
  },
  {
   "cell_type": "code",
   "execution_count": 3,
   "id": "971f58d8-6518-4cf1-bca1-b1834b93c303",
   "metadata": {},
   "outputs": [],
   "source": [
    "import pandas as pd\n",
    "import numpy as np"
   ]
  },
  {
   "cell_type": "markdown",
   "id": "cc91a796-c112-4a7f-a8ae-c5c5095ae84c",
   "metadata": {},
   "source": [
    "Reading file 1"
   ]
  },
  {
   "cell_type": "code",
   "execution_count": 4,
   "id": "4ad4a9c0-67e2-4fe4-80bb-6cf8dd354a7b",
   "metadata": {},
   "outputs": [
    {
     "data": {
      "text/html": [
       "<div>\n",
       "<style scoped>\n",
       "    .dataframe tbody tr th:only-of-type {\n",
       "        vertical-align: middle;\n",
       "    }\n",
       "\n",
       "    .dataframe tbody tr th {\n",
       "        vertical-align: top;\n",
       "    }\n",
       "\n",
       "    .dataframe thead th {\n",
       "        text-align: right;\n",
       "    }\n",
       "</style>\n",
       "<table border=\"1\" class=\"dataframe\">\n",
       "  <thead>\n",
       "    <tr style=\"text-align: right;\">\n",
       "      <th></th>\n",
       "      <th>ANGELEGT_AM</th>\n",
       "      <th>TATZEIT_ANFANG_DATUM</th>\n",
       "      <th>TATZEIT_ANFANG_STUNDE</th>\n",
       "      <th>TATZEIT_ENDE_DATUM</th>\n",
       "      <th>TATZEIT_ENDE_STUNDE</th>\n",
       "      <th>LOR</th>\n",
       "      <th>SCHADENSHOEHE</th>\n",
       "      <th>VERSUCH</th>\n",
       "      <th>ART_DES_FAHRRADS</th>\n",
       "      <th>DELIKT</th>\n",
       "      <th>ERFASSUNGSGRUND</th>\n",
       "    </tr>\n",
       "  </thead>\n",
       "  <tbody>\n",
       "    <tr>\n",
       "      <th>0</th>\n",
       "      <td>30.09.2023</td>\n",
       "      <td>29.09.2023</td>\n",
       "      <td>6</td>\n",
       "      <td>29.09.2023</td>\n",
       "      <td>15</td>\n",
       "      <td>6100102</td>\n",
       "      <td>770</td>\n",
       "      <td>Nein</td>\n",
       "      <td>Fahrrad</td>\n",
       "      <td>Fahrraddiebstahl</td>\n",
       "      <td>Sonstiger schwerer Diebstahl von Fahrrädern</td>\n",
       "    </tr>\n",
       "    <tr>\n",
       "      <th>1</th>\n",
       "      <td>30.09.2023</td>\n",
       "      <td>29.09.2023</td>\n",
       "      <td>16</td>\n",
       "      <td>30.09.2023</td>\n",
       "      <td>5</td>\n",
       "      <td>3200207</td>\n",
       "      <td>0</td>\n",
       "      <td>Nein</td>\n",
       "      <td>Mountainbike</td>\n",
       "      <td>Fahrraddiebstahl</td>\n",
       "      <td>Sonstiger schwerer Diebstahl von Fahrrädern</td>\n",
       "    </tr>\n",
       "    <tr>\n",
       "      <th>2</th>\n",
       "      <td>30.09.2023</td>\n",
       "      <td>28.09.2023</td>\n",
       "      <td>12</td>\n",
       "      <td>30.09.2023</td>\n",
       "      <td>11</td>\n",
       "      <td>4300412</td>\n",
       "      <td>1058</td>\n",
       "      <td>Nein</td>\n",
       "      <td>diverse Fahrräder</td>\n",
       "      <td>Keller- und Bodeneinbruch</td>\n",
       "      <td>Sonstiger schwerer Diebstahl in/aus Keller/Bod...</td>\n",
       "    </tr>\n",
       "    <tr>\n",
       "      <th>3</th>\n",
       "      <td>30.09.2023</td>\n",
       "      <td>29.09.2023</td>\n",
       "      <td>19</td>\n",
       "      <td>30.09.2023</td>\n",
       "      <td>8</td>\n",
       "      <td>9502042</td>\n",
       "      <td>200</td>\n",
       "      <td>Nein</td>\n",
       "      <td>Damenfahrrad</td>\n",
       "      <td>Fahrraddiebstahl</td>\n",
       "      <td>Sonstiger schwerer Diebstahl von Fahrrädern</td>\n",
       "    </tr>\n",
       "    <tr>\n",
       "      <th>4</th>\n",
       "      <td>30.09.2023</td>\n",
       "      <td>30.09.2023</td>\n",
       "      <td>13</td>\n",
       "      <td>30.09.2023</td>\n",
       "      <td>14</td>\n",
       "      <td>3601243</td>\n",
       "      <td>489</td>\n",
       "      <td>Nein</td>\n",
       "      <td>Damenfahrrad</td>\n",
       "      <td>Fahrraddiebstahl</td>\n",
       "      <td>Sonstiger schwerer Diebstahl von Fahrrädern</td>\n",
       "    </tr>\n",
       "    <tr>\n",
       "      <th>...</th>\n",
       "      <td>...</td>\n",
       "      <td>...</td>\n",
       "      <td>...</td>\n",
       "      <td>...</td>\n",
       "      <td>...</td>\n",
       "      <td>...</td>\n",
       "      <td>...</td>\n",
       "      <td>...</td>\n",
       "      <td>...</td>\n",
       "      <td>...</td>\n",
       "      <td>...</td>\n",
       "    </tr>\n",
       "    <tr>\n",
       "      <th>39651</th>\n",
       "      <td>02.01.2022</td>\n",
       "      <td>02.01.2022</td>\n",
       "      <td>8</td>\n",
       "      <td>02.01.2022</td>\n",
       "      <td>17</td>\n",
       "      <td>7200413</td>\n",
       "      <td>660</td>\n",
       "      <td>Nein</td>\n",
       "      <td>Damenfahrrad</td>\n",
       "      <td>Fahrraddiebstahl</td>\n",
       "      <td>Sonstiger schwerer Diebstahl von Fahrrädern</td>\n",
       "    </tr>\n",
       "    <tr>\n",
       "      <th>39652</th>\n",
       "      <td>01.01.2022</td>\n",
       "      <td>01.01.2022</td>\n",
       "      <td>14</td>\n",
       "      <td>01.01.2022</td>\n",
       "      <td>14</td>\n",
       "      <td>3601142</td>\n",
       "      <td>1000</td>\n",
       "      <td>Nein</td>\n",
       "      <td>Herrenfahrrad</td>\n",
       "      <td>Fahrraddiebstahl</td>\n",
       "      <td>Einfacher Diebstahl von Fahrrädern</td>\n",
       "    </tr>\n",
       "    <tr>\n",
       "      <th>39653</th>\n",
       "      <td>01.01.2022</td>\n",
       "      <td>01.01.2022</td>\n",
       "      <td>16</td>\n",
       "      <td>01.01.2022</td>\n",
       "      <td>19</td>\n",
       "      <td>2400623</td>\n",
       "      <td>1754</td>\n",
       "      <td>Nein</td>\n",
       "      <td>Herrenfahrrad</td>\n",
       "      <td>Fahrraddiebstahl</td>\n",
       "      <td>Sonstiger schwerer Diebstahl von Fahrrädern</td>\n",
       "    </tr>\n",
       "    <tr>\n",
       "      <th>39654</th>\n",
       "      <td>01.01.2022</td>\n",
       "      <td>01.01.2022</td>\n",
       "      <td>4</td>\n",
       "      <td>01.01.2022</td>\n",
       "      <td>8</td>\n",
       "      <td>2100106</td>\n",
       "      <td>190</td>\n",
       "      <td>Nein</td>\n",
       "      <td>Herrenfahrrad</td>\n",
       "      <td>Fahrraddiebstahl</td>\n",
       "      <td>Sonstiger schwerer Diebstahl von Fahrrädern</td>\n",
       "    </tr>\n",
       "    <tr>\n",
       "      <th>39655</th>\n",
       "      <td>01.01.2022</td>\n",
       "      <td>01.01.2022</td>\n",
       "      <td>20</td>\n",
       "      <td>01.01.2022</td>\n",
       "      <td>20</td>\n",
       "      <td>1300730</td>\n",
       "      <td>150</td>\n",
       "      <td>Nein</td>\n",
       "      <td>Herrenfahrrad</td>\n",
       "      <td>Fahrraddiebstahl</td>\n",
       "      <td>Sonstiger schwerer Diebstahl von Fahrrädern</td>\n",
       "    </tr>\n",
       "  </tbody>\n",
       "</table>\n",
       "<p>39656 rows × 11 columns</p>\n",
       "</div>"
      ],
      "text/plain": [
       "      ANGELEGT_AM TATZEIT_ANFANG_DATUM  TATZEIT_ANFANG_STUNDE  \\\n",
       "0      30.09.2023           29.09.2023                      6   \n",
       "1      30.09.2023           29.09.2023                     16   \n",
       "2      30.09.2023           28.09.2023                     12   \n",
       "3      30.09.2023           29.09.2023                     19   \n",
       "4      30.09.2023           30.09.2023                     13   \n",
       "...           ...                  ...                    ...   \n",
       "39651  02.01.2022           02.01.2022                      8   \n",
       "39652  01.01.2022           01.01.2022                     14   \n",
       "39653  01.01.2022           01.01.2022                     16   \n",
       "39654  01.01.2022           01.01.2022                      4   \n",
       "39655  01.01.2022           01.01.2022                     20   \n",
       "\n",
       "      TATZEIT_ENDE_DATUM  TATZEIT_ENDE_STUNDE      LOR  SCHADENSHOEHE VERSUCH  \\\n",
       "0             29.09.2023                   15  6100102            770    Nein   \n",
       "1             30.09.2023                    5  3200207              0    Nein   \n",
       "2             30.09.2023                   11  4300412           1058    Nein   \n",
       "3             30.09.2023                    8  9502042            200    Nein   \n",
       "4             30.09.2023                   14  3601243            489    Nein   \n",
       "...                  ...                  ...      ...            ...     ...   \n",
       "39651         02.01.2022                   17  7200413            660    Nein   \n",
       "39652         01.01.2022                   14  3601142           1000    Nein   \n",
       "39653         01.01.2022                   19  2400623           1754    Nein   \n",
       "39654         01.01.2022                    8  2100106            190    Nein   \n",
       "39655         01.01.2022                   20  1300730            150    Nein   \n",
       "\n",
       "        ART_DES_FAHRRADS                     DELIKT  \\\n",
       "0                Fahrrad           Fahrraddiebstahl   \n",
       "1           Mountainbike           Fahrraddiebstahl   \n",
       "2      diverse Fahrräder  Keller- und Bodeneinbruch   \n",
       "3           Damenfahrrad           Fahrraddiebstahl   \n",
       "4           Damenfahrrad           Fahrraddiebstahl   \n",
       "...                  ...                        ...   \n",
       "39651       Damenfahrrad           Fahrraddiebstahl   \n",
       "39652      Herrenfahrrad           Fahrraddiebstahl   \n",
       "39653      Herrenfahrrad           Fahrraddiebstahl   \n",
       "39654      Herrenfahrrad           Fahrraddiebstahl   \n",
       "39655      Herrenfahrrad           Fahrraddiebstahl   \n",
       "\n",
       "                                         ERFASSUNGSGRUND  \n",
       "0            Sonstiger schwerer Diebstahl von Fahrrädern  \n",
       "1            Sonstiger schwerer Diebstahl von Fahrrädern  \n",
       "2      Sonstiger schwerer Diebstahl in/aus Keller/Bod...  \n",
       "3            Sonstiger schwerer Diebstahl von Fahrrädern  \n",
       "4            Sonstiger schwerer Diebstahl von Fahrrädern  \n",
       "...                                                  ...  \n",
       "39651        Sonstiger schwerer Diebstahl von Fahrrädern  \n",
       "39652                 Einfacher Diebstahl von Fahrrädern  \n",
       "39653        Sonstiger schwerer Diebstahl von Fahrrädern  \n",
       "39654        Sonstiger schwerer Diebstahl von Fahrrädern  \n",
       "39655        Sonstiger schwerer Diebstahl von Fahrrädern  \n",
       "\n",
       "[39656 rows x 11 columns]"
      ]
     },
     "execution_count": 4,
     "metadata": {},
     "output_type": "execute_result"
    }
   ],
   "source": [
    "data1 = pd.read_csv('C:\\\\Users\\\\Win10 Pro x64\\\\Documents\\\\Data_Weiterbildung\\\\IronHack\\\\Week_5\\\\Mid_bootcamp_project\\\\data\\\\raw\\\\Fahrraddiebstahl.csv', sep=',', encoding='iso-8859-1')\n",
    "data1"
   ]
  },
  {
   "cell_type": "code",
   "execution_count": 5,
   "id": "0b3121d3-af90-4f0f-824d-8355306c5a68",
   "metadata": {},
   "outputs": [
    {
     "name": "stdout",
     "output_type": "stream",
     "text": [
      "<class 'pandas.core.frame.DataFrame'>\n",
      "RangeIndex: 39656 entries, 0 to 39655\n",
      "Data columns (total 11 columns):\n",
      " #   Column                 Non-Null Count  Dtype \n",
      "---  ------                 --------------  ----- \n",
      " 0   ANGELEGT_AM            39656 non-null  object\n",
      " 1   TATZEIT_ANFANG_DATUM   39656 non-null  object\n",
      " 2   TATZEIT_ANFANG_STUNDE  39656 non-null  int64 \n",
      " 3   TATZEIT_ENDE_DATUM     39656 non-null  object\n",
      " 4   TATZEIT_ENDE_STUNDE    39656 non-null  int64 \n",
      " 5   LOR                    39656 non-null  int64 \n",
      " 6   SCHADENSHOEHE          39656 non-null  int64 \n",
      " 7   VERSUCH                39656 non-null  object\n",
      " 8   ART_DES_FAHRRADS       39656 non-null  object\n",
      " 9   DELIKT                 39656 non-null  object\n",
      " 10  ERFASSUNGSGRUND        39656 non-null  object\n",
      "dtypes: int64(4), object(7)\n",
      "memory usage: 3.3+ MB\n"
     ]
    }
   ],
   "source": [
    "data1.info()"
   ]
  },
  {
   "cell_type": "markdown",
   "id": "4241a20b-b18b-4bb4-90fd-df02d552f31e",
   "metadata": {},
   "source": [
    "1.1. Data Cleaning \n",
    "     Translation Column Names"
   ]
  },
  {
   "cell_type": "code",
   "execution_count": 6,
   "id": "d8fd8714-538a-4020-9d46-8523e8a9b6ee",
   "metadata": {},
   "outputs": [
    {
     "data": {
      "text/plain": [
       "Index(['called_at_date', 'start_date_incident', 'start_time_crime',\n",
       "       'end_date_incident', 'end_time_crime', 'lor', 'loss_amount', 'attempt',\n",
       "       'bicycle_type', 'crime_type', 'record_type'],\n",
       "      dtype='object')"
      ]
     },
     "execution_count": 6,
     "metadata": {},
     "output_type": "execute_result"
    }
   ],
   "source": [
    "data1.rename(columns={\n",
    "    \"ANGELEGT_AM\": \"called_at_date\",\n",
    "    \"TATZEIT_ANFANG_DATUM\": \"start_date_incident\",\n",
    "    \"TATZEIT_ENDE_DATUM\": \"end_date_incident\",\n",
    "    \"TATZEIT_ANFANG_STUNDE\": \"start_time_crime\",\n",
    "    \"TATZEIT_ENDE_STUNDE\": \"end_time_crime\",\n",
    "    \"LOR\": \"lor\",\n",
    "    \"SCHADENSHOEHE\": \"loss_amount\",\n",
    "    \"VERSUCH\": \"attempt\",\n",
    "    \"ART_DES_FAHRRADS\": \"bicycle_type\",\n",
    "    \"DELIKT\": \"crime_type\",\n",
    "    \"ERFASSUNGSGRUND\": \"record_type\"\n",
    "}, inplace=True)\n",
    "data1.columns"
   ]
  },
  {
   "cell_type": "markdown",
   "id": "3c6bb01a-9efa-4d13-bcf9-3765c31ccd3e",
   "metadata": {},
   "source": [
    "1.1. Data Cleaning \n",
    "     Translation Values File 1"
   ]
  },
  {
   "cell_type": "code",
   "execution_count": 7,
   "id": "fcb92f2e-96e0-4aff-b0c4-b78622dccaef",
   "metadata": {},
   "outputs": [
    {
     "data": {
      "text/plain": [
       "array(['Nein', 'Ja', 'Unbekannt'], dtype=object)"
      ]
     },
     "execution_count": 7,
     "metadata": {},
     "output_type": "execute_result"
    }
   ],
   "source": [
    "data1['attempt'].unique()"
   ]
  },
  {
   "cell_type": "code",
   "execution_count": 8,
   "id": "065e5c46-e4f8-44af-b265-975c10dcdab0",
   "metadata": {},
   "outputs": [],
   "source": [
    "data1['attempt'].replace({'Nein': 'No', 'Ja': 'Yes', 'Unbekannt': 'Unknown'}, inplace=True)"
   ]
  },
  {
   "cell_type": "code",
   "execution_count": 9,
   "id": "1e0bdcbf-232b-4da8-ac09-8f165e297144",
   "metadata": {},
   "outputs": [
    {
     "data": {
      "text/plain": [
       "array(['Fahrrad', 'Mountainbike', 'diverse Fahrräder', 'Damenfahrrad',\n",
       "       'Herrenfahrrad', 'Kinderfahrrad', 'Rennrad', 'Lastenfahrrad'],\n",
       "      dtype=object)"
      ]
     },
     "execution_count": 9,
     "metadata": {},
     "output_type": "execute_result"
    }
   ],
   "source": [
    "data1['bicycle_type'].unique()"
   ]
  },
  {
   "cell_type": "code",
   "execution_count": 10,
   "id": "9fbef5b7-d54f-4207-9968-afeff4c094e8",
   "metadata": {},
   "outputs": [],
   "source": [
    "data1['bicycle_type'].replace({'Fahrrad': 'Bicycle', \n",
    "                               'Mountainbike': 'Mountain Bike', \n",
    "                               'diverse Fahrräder': 'Other Bicycle',\n",
    "                               'Damenfahrrad': 'Ladies Bicycle',\n",
    "                               'Kinderfahrrad': 'Childrens Bicycle',\n",
    "                               'Rennrad': 'Racing Bicycle',\n",
    "                               'Lastenfahrrad': 'Cargo Bicycle',\n",
    "                              }, inplace=True)"
   ]
  },
  {
   "cell_type": "code",
   "execution_count": 11,
   "id": "86c6b240-a6df-4186-b841-a6adccdfa933",
   "metadata": {},
   "outputs": [
    {
     "data": {
      "text/plain": [
       "array(['Fahrraddiebstahl', 'Keller- und Bodeneinbruch'], dtype=object)"
      ]
     },
     "execution_count": 11,
     "metadata": {},
     "output_type": "execute_result"
    }
   ],
   "source": [
    "data1['crime_type'].unique()"
   ]
  },
  {
   "cell_type": "code",
   "execution_count": 12,
   "id": "2f7b5b4f-b12e-4d97-8282-e9c5a30ba2db",
   "metadata": {},
   "outputs": [],
   "source": [
    "data1['crime_type'].replace({'Fahrraddiebstahl': 'Bicycle Theft', 'Keller- und Bodeneinbruch': 'Cellar or Property Break and Enter'}, inplace=True)"
   ]
  },
  {
   "cell_type": "code",
   "execution_count": 13,
   "id": "b8730138-6ab7-47d9-b4bf-8ce9365df1dd",
   "metadata": {},
   "outputs": [
    {
     "data": {
      "text/plain": [
       "array(['Bicycle Theft', 'Cellar or Property Break and Enter'],\n",
       "      dtype=object)"
      ]
     },
     "execution_count": 13,
     "metadata": {},
     "output_type": "execute_result"
    }
   ],
   "source": [
    "data1['crime_type'].unique()"
   ]
  },
  {
   "cell_type": "code",
   "execution_count": 14,
   "id": "b172c29a-5b04-4308-9a5d-dd5a08e2cd69",
   "metadata": {},
   "outputs": [
    {
     "data": {
      "text/plain": [
       "array(['Sonstiger schwerer Diebstahl von Fahrrädern',\n",
       "       'Sonstiger schwerer Diebstahl in/aus Keller/Boden von Fahrrädern',\n",
       "       'Einfacher Diebstahl von Fahrrädern',\n",
       "       'Einfacher Diebstahl aus Keller/Boden von Fahrrädern'],\n",
       "      dtype=object)"
      ]
     },
     "execution_count": 14,
     "metadata": {},
     "output_type": "execute_result"
    }
   ],
   "source": [
    "data1['record_type'].unique()"
   ]
  },
  {
   "cell_type": "code",
   "execution_count": 15,
   "id": "3c103105-613b-49e5-84f7-9f7062d8aaab",
   "metadata": {},
   "outputs": [],
   "source": [
    "data1['record_type'].replace({'Sonstiger schwerer Diebstahl von Fahrrädern': 'Miscellaneous Aggravated Bicycle Theft', \n",
    "                               'Sonstiger schwerer Diebstahl in/aus Keller/Boden von Fahrrädern': 'Miscellaneous Aggravated Theft from Bicycle Cellar', \n",
    "                               'Einfacher Diebstahl von Fahrrädern': 'Simple Bicycle Theft',\n",
    "                               'Einfacher Diebstahl aus Keller/Boden von Fahrrädern': 'Simple Theft from Bicycle Cellar',\n",
    "                              }, inplace=True)"
   ]
  },
  {
   "cell_type": "markdown",
   "id": "ec4037b7-7ca5-4b2d-a989-0a9d91dec2b4",
   "metadata": {},
   "source": [
    "Reading File 2 "
   ]
  },
  {
   "cell_type": "code",
   "execution_count": 16,
   "id": "9a1ce637-18dc-429c-aa1c-f5f876e61b00",
   "metadata": {},
   "outputs": [
    {
     "data": {
      "text/html": [
       "<div>\n",
       "<style scoped>\n",
       "    .dataframe tbody tr th:only-of-type {\n",
       "        vertical-align: middle;\n",
       "    }\n",
       "\n",
       "    .dataframe tbody tr th {\n",
       "        vertical-align: top;\n",
       "    }\n",
       "\n",
       "    .dataframe thead th {\n",
       "        text-align: right;\n",
       "    }\n",
       "</style>\n",
       "<table border=\"1\" class=\"dataframe\">\n",
       "  <thead>\n",
       "    <tr style=\"text-align: right;\">\n",
       "      <th></th>\n",
       "      <th>OBJECTID</th>\n",
       "      <th>LAND</th>\n",
       "      <th>BEZ</th>\n",
       "      <th>LOR_ab_2021</th>\n",
       "      <th>UJAHR</th>\n",
       "      <th>UMONAT</th>\n",
       "      <th>USTUNDE</th>\n",
       "      <th>UWOCHENTAG</th>\n",
       "      <th>UKATEGORIE</th>\n",
       "      <th>UART</th>\n",
       "      <th>...</th>\n",
       "      <th>IstPKW</th>\n",
       "      <th>IstFuss</th>\n",
       "      <th>IstKrad</th>\n",
       "      <th>IstGkfz</th>\n",
       "      <th>IstSonstige</th>\n",
       "      <th>USTRZUSTAND</th>\n",
       "      <th>LINREFX</th>\n",
       "      <th>LINREFY</th>\n",
       "      <th>XGCSWGS84</th>\n",
       "      <th>YGCSWGS84</th>\n",
       "    </tr>\n",
       "  </thead>\n",
       "  <tbody>\n",
       "    <tr>\n",
       "      <th>0</th>\n",
       "      <td>219249</td>\n",
       "      <td>11</td>\n",
       "      <td>3</td>\n",
       "      <td>3701658.0</td>\n",
       "      <td>2021</td>\n",
       "      <td>11</td>\n",
       "      <td>18</td>\n",
       "      <td>2</td>\n",
       "      <td>3</td>\n",
       "      <td>0</td>\n",
       "      <td>...</td>\n",
       "      <td>1</td>\n",
       "      <td>0</td>\n",
       "      <td>1</td>\n",
       "      <td>0</td>\n",
       "      <td>0</td>\n",
       "      <td>1</td>\n",
       "      <td>800202,0742</td>\n",
       "      <td>5829640,204</td>\n",
       "      <td>13,42689483</td>\n",
       "      <td>52,53393955</td>\n",
       "    </tr>\n",
       "    <tr>\n",
       "      <th>1</th>\n",
       "      <td>219248</td>\n",
       "      <td>11</td>\n",
       "      <td>7</td>\n",
       "      <td>7501134.0</td>\n",
       "      <td>2021</td>\n",
       "      <td>12</td>\n",
       "      <td>19</td>\n",
       "      <td>7</td>\n",
       "      <td>3</td>\n",
       "      <td>6</td>\n",
       "      <td>...</td>\n",
       "      <td>1</td>\n",
       "      <td>1</td>\n",
       "      <td>0</td>\n",
       "      <td>0</td>\n",
       "      <td>0</td>\n",
       "      <td>1</td>\n",
       "      <td>798479,5317</td>\n",
       "      <td>5819049,219</td>\n",
       "      <td>13,39209027</td>\n",
       "      <td>52,43995086</td>\n",
       "    </tr>\n",
       "    <tr>\n",
       "      <th>2</th>\n",
       "      <td>219247</td>\n",
       "      <td>11</td>\n",
       "      <td>4</td>\n",
       "      <td>4100101.0</td>\n",
       "      <td>2021</td>\n",
       "      <td>12</td>\n",
       "      <td>17</td>\n",
       "      <td>4</td>\n",
       "      <td>3</td>\n",
       "      <td>5</td>\n",
       "      <td>...</td>\n",
       "      <td>1</td>\n",
       "      <td>0</td>\n",
       "      <td>0</td>\n",
       "      <td>0</td>\n",
       "      <td>0</td>\n",
       "      <td>0</td>\n",
       "      <td>793352,6128</td>\n",
       "      <td>5829680,195</td>\n",
       "      <td>13,32624193</td>\n",
       "      <td>52,53802784</td>\n",
       "    </tr>\n",
       "    <tr>\n",
       "      <th>3</th>\n",
       "      <td>219246</td>\n",
       "      <td>11</td>\n",
       "      <td>4</td>\n",
       "      <td>4501041.0</td>\n",
       "      <td>2021</td>\n",
       "      <td>12</td>\n",
       "      <td>15</td>\n",
       "      <td>7</td>\n",
       "      <td>3</td>\n",
       "      <td>5</td>\n",
       "      <td>...</td>\n",
       "      <td>1</td>\n",
       "      <td>0</td>\n",
       "      <td>1</td>\n",
       "      <td>0</td>\n",
       "      <td>0</td>\n",
       "      <td>1</td>\n",
       "      <td>792950,0395</td>\n",
       "      <td>5825362,081</td>\n",
       "      <td>13,31652064</td>\n",
       "      <td>52,49953417</td>\n",
       "    </tr>\n",
       "    <tr>\n",
       "      <th>4</th>\n",
       "      <td>219243</td>\n",
       "      <td>11</td>\n",
       "      <td>11</td>\n",
       "      <td>11501339.0</td>\n",
       "      <td>2021</td>\n",
       "      <td>12</td>\n",
       "      <td>9</td>\n",
       "      <td>5</td>\n",
       "      <td>3</td>\n",
       "      <td>3</td>\n",
       "      <td>...</td>\n",
       "      <td>1</td>\n",
       "      <td>0</td>\n",
       "      <td>0</td>\n",
       "      <td>0</td>\n",
       "      <td>1</td>\n",
       "      <td>2</td>\n",
       "      <td>807182,01</td>\n",
       "      <td>5825602,793</td>\n",
       "      <td>13,52575163</td>\n",
       "      <td>52,49386714</td>\n",
       "    </tr>\n",
       "    <tr>\n",
       "      <th>...</th>\n",
       "      <td>...</td>\n",
       "      <td>...</td>\n",
       "      <td>...</td>\n",
       "      <td>...</td>\n",
       "      <td>...</td>\n",
       "      <td>...</td>\n",
       "      <td>...</td>\n",
       "      <td>...</td>\n",
       "      <td>...</td>\n",
       "      <td>...</td>\n",
       "      <td>...</td>\n",
       "      <td>...</td>\n",
       "      <td>...</td>\n",
       "      <td>...</td>\n",
       "      <td>...</td>\n",
       "      <td>...</td>\n",
       "      <td>...</td>\n",
       "      <td>...</td>\n",
       "      <td>...</td>\n",
       "      <td>...</td>\n",
       "      <td>...</td>\n",
       "    </tr>\n",
       "    <tr>\n",
       "      <th>11262</th>\n",
       "      <td>112174</td>\n",
       "      <td>11</td>\n",
       "      <td>4</td>\n",
       "      <td>4300414.0</td>\n",
       "      <td>2021</td>\n",
       "      <td>3</td>\n",
       "      <td>16</td>\n",
       "      <td>4</td>\n",
       "      <td>3</td>\n",
       "      <td>6</td>\n",
       "      <td>...</td>\n",
       "      <td>1</td>\n",
       "      <td>1</td>\n",
       "      <td>0</td>\n",
       "      <td>0</td>\n",
       "      <td>0</td>\n",
       "      <td>1</td>\n",
       "      <td>791505,4105</td>\n",
       "      <td>5826555,664</td>\n",
       "      <td>13,29634478</td>\n",
       "      <td>52,51100814</td>\n",
       "    </tr>\n",
       "    <tr>\n",
       "      <th>11263</th>\n",
       "      <td>111541</td>\n",
       "      <td>11</td>\n",
       "      <td>4</td>\n",
       "      <td>4400726.0</td>\n",
       "      <td>2021</td>\n",
       "      <td>1</td>\n",
       "      <td>1</td>\n",
       "      <td>6</td>\n",
       "      <td>3</td>\n",
       "      <td>9</td>\n",
       "      <td>...</td>\n",
       "      <td>1</td>\n",
       "      <td>0</td>\n",
       "      <td>0</td>\n",
       "      <td>0</td>\n",
       "      <td>0</td>\n",
       "      <td>0</td>\n",
       "      <td>791154,679</td>\n",
       "      <td>5824616,757</td>\n",
       "      <td>13,28949592</td>\n",
       "      <td>52,49381321</td>\n",
       "    </tr>\n",
       "    <tr>\n",
       "      <th>11264</th>\n",
       "      <td>110370</td>\n",
       "      <td>11</td>\n",
       "      <td>3</td>\n",
       "      <td>2400520.0</td>\n",
       "      <td>2021</td>\n",
       "      <td>1</td>\n",
       "      <td>20</td>\n",
       "      <td>1</td>\n",
       "      <td>3</td>\n",
       "      <td>3</td>\n",
       "      <td>...</td>\n",
       "      <td>1</td>\n",
       "      <td>0</td>\n",
       "      <td>0</td>\n",
       "      <td>0</td>\n",
       "      <td>0</td>\n",
       "      <td>1</td>\n",
       "      <td>799988,2122</td>\n",
       "      <td>5828912,431</td>\n",
       "      <td>13,42309463</td>\n",
       "      <td>52,52753402</td>\n",
       "    </tr>\n",
       "    <tr>\n",
       "      <th>11265</th>\n",
       "      <td>109998</td>\n",
       "      <td>11</td>\n",
       "      <td>7</td>\n",
       "      <td>7300619.0</td>\n",
       "      <td>2021</td>\n",
       "      <td>1</td>\n",
       "      <td>14</td>\n",
       "      <td>7</td>\n",
       "      <td>3</td>\n",
       "      <td>2</td>\n",
       "      <td>...</td>\n",
       "      <td>1</td>\n",
       "      <td>0</td>\n",
       "      <td>0</td>\n",
       "      <td>0</td>\n",
       "      <td>0</td>\n",
       "      <td>1</td>\n",
       "      <td>796018,2589</td>\n",
       "      <td>5822739,196</td>\n",
       "      <td>13,35925879</td>\n",
       "      <td>52,47436651</td>\n",
       "    </tr>\n",
       "    <tr>\n",
       "      <th>11266</th>\n",
       "      <td>109753</td>\n",
       "      <td>11</td>\n",
       "      <td>12</td>\n",
       "      <td>12400723.0</td>\n",
       "      <td>2021</td>\n",
       "      <td>1</td>\n",
       "      <td>14</td>\n",
       "      <td>2</td>\n",
       "      <td>3</td>\n",
       "      <td>5</td>\n",
       "      <td>...</td>\n",
       "      <td>1</td>\n",
       "      <td>0</td>\n",
       "      <td>0</td>\n",
       "      <td>0</td>\n",
       "      <td>1</td>\n",
       "      <td>1</td>\n",
       "      <td>791884,0985</td>\n",
       "      <td>5839010,713</td>\n",
       "      <td>13,31286818</td>\n",
       "      <td>52,6224611</td>\n",
       "    </tr>\n",
       "  </tbody>\n",
       "</table>\n",
       "<p>11267 rows × 23 columns</p>\n",
       "</div>"
      ],
      "text/plain": [
       "       OBJECTID  LAND  BEZ  LOR_ab_2021  UJAHR  UMONAT  USTUNDE  UWOCHENTAG  \\\n",
       "0        219249    11    3    3701658.0   2021      11       18           2   \n",
       "1        219248    11    7    7501134.0   2021      12       19           7   \n",
       "2        219247    11    4    4100101.0   2021      12       17           4   \n",
       "3        219246    11    4    4501041.0   2021      12       15           7   \n",
       "4        219243    11   11   11501339.0   2021      12        9           5   \n",
       "...         ...   ...  ...          ...    ...     ...      ...         ...   \n",
       "11262    112174    11    4    4300414.0   2021       3       16           4   \n",
       "11263    111541    11    4    4400726.0   2021       1        1           6   \n",
       "11264    110370    11    3    2400520.0   2021       1       20           1   \n",
       "11265    109998    11    7    7300619.0   2021       1       14           7   \n",
       "11266    109753    11   12   12400723.0   2021       1       14           2   \n",
       "\n",
       "       UKATEGORIE  UART  ...  IstPKW  IstFuss  IstKrad  IstGkfz  IstSonstige  \\\n",
       "0               3     0  ...       1        0        1        0            0   \n",
       "1               3     6  ...       1        1        0        0            0   \n",
       "2               3     5  ...       1        0        0        0            0   \n",
       "3               3     5  ...       1        0        1        0            0   \n",
       "4               3     3  ...       1        0        0        0            1   \n",
       "...           ...   ...  ...     ...      ...      ...      ...          ...   \n",
       "11262           3     6  ...       1        1        0        0            0   \n",
       "11263           3     9  ...       1        0        0        0            0   \n",
       "11264           3     3  ...       1        0        0        0            0   \n",
       "11265           3     2  ...       1        0        0        0            0   \n",
       "11266           3     5  ...       1        0        0        0            1   \n",
       "\n",
       "       USTRZUSTAND      LINREFX      LINREFY    XGCSWGS84    YGCSWGS84  \n",
       "0                1  800202,0742  5829640,204  13,42689483  52,53393955  \n",
       "1                1  798479,5317  5819049,219  13,39209027  52,43995086  \n",
       "2                0  793352,6128  5829680,195  13,32624193  52,53802784  \n",
       "3                1  792950,0395  5825362,081  13,31652064  52,49953417  \n",
       "4                2    807182,01  5825602,793  13,52575163  52,49386714  \n",
       "...            ...          ...          ...          ...          ...  \n",
       "11262            1  791505,4105  5826555,664  13,29634478  52,51100814  \n",
       "11263            0   791154,679  5824616,757  13,28949592  52,49381321  \n",
       "11264            1  799988,2122  5828912,431  13,42309463  52,52753402  \n",
       "11265            1  796018,2589  5822739,196  13,35925879  52,47436651  \n",
       "11266            1  791884,0985  5839010,713  13,31286818   52,6224611  \n",
       "\n",
       "[11267 rows x 23 columns]"
      ]
     },
     "execution_count": 16,
     "metadata": {},
     "output_type": "execute_result"
    }
   ],
   "source": [
    "data2=pd.read_csv('C:\\\\Users\\\\Win10 Pro x64\\\\Documents\\\\Data_Weiterbildung\\\\IronHack\\\\Week_5\\\\Mid_bootcamp_project\\\\data\\\\raw\\\\AfSBBB_BE_LOR_Strasse_Strassenverkehrsunfaelle_2021_Datensatz.csv', sep=';')\n",
    "data2"
   ]
  },
  {
   "cell_type": "code",
   "execution_count": 17,
   "id": "f8015935-2f38-4701-a272-289d5acfc7da",
   "metadata": {},
   "outputs": [
    {
     "name": "stdout",
     "output_type": "stream",
     "text": [
      "<class 'pandas.core.frame.DataFrame'>\n",
      "RangeIndex: 11267 entries, 0 to 11266\n",
      "Data columns (total 23 columns):\n",
      " #   Column       Non-Null Count  Dtype  \n",
      "---  ------       --------------  -----  \n",
      " 0   OBJECTID     11267 non-null  int64  \n",
      " 1   LAND         11267 non-null  int64  \n",
      " 2   BEZ          11267 non-null  int64  \n",
      " 3   LOR_ab_2021  11266 non-null  float64\n",
      " 4   UJAHR        11267 non-null  int64  \n",
      " 5   UMONAT       11267 non-null  int64  \n",
      " 6   USTUNDE      11267 non-null  int64  \n",
      " 7   UWOCHENTAG   11267 non-null  int64  \n",
      " 8   UKATEGORIE   11267 non-null  int64  \n",
      " 9   UART         11267 non-null  int64  \n",
      " 10  UTYP1        11267 non-null  int64  \n",
      " 11  ULICHTVERH   11267 non-null  int64  \n",
      " 12  IstRad       11267 non-null  int64  \n",
      " 13  IstPKW       11267 non-null  int64  \n",
      " 14  IstFuss      11267 non-null  int64  \n",
      " 15  IstKrad      11267 non-null  int64  \n",
      " 16  IstGkfz      11267 non-null  int64  \n",
      " 17  IstSonstige  11267 non-null  int64  \n",
      " 18  USTRZUSTAND  11267 non-null  int64  \n",
      " 19  LINREFX      11267 non-null  object \n",
      " 20  LINREFY      11267 non-null  object \n",
      " 21  XGCSWGS84    11267 non-null  object \n",
      " 22  YGCSWGS84    11267 non-null  object \n",
      "dtypes: float64(1), int64(18), object(4)\n",
      "memory usage: 2.0+ MB\n"
     ]
    }
   ],
   "source": [
    "data2.info()"
   ]
  },
  {
   "cell_type": "markdown",
   "id": "a9472382-ef6d-4dfe-ab35-da5d1e49821a",
   "metadata": {},
   "source": [
    "1.1. Data Cleaning \n",
    "     Translation Column Names File 2"
   ]
  },
  {
   "cell_type": "code",
   "execution_count": 18,
   "id": "04463ef2-3ce5-4f3e-bcca-4da2a99ddacb",
   "metadata": {},
   "outputs": [
    {
     "data": {
      "text/plain": [
       "Index(['object_id', 'federal_state', 'district', 'lor_2021', 'year_accident',\n",
       "       'month_accident', 'hour_accident', 'weekday', 'accident_category',\n",
       "       'accident_type', 'accident_subtype', 'light_conditions',\n",
       "       'accident_involving_bicycle', 'accident_involving_passenger_car',\n",
       "       'accident_involving_pedestrian', 'accident_involving_motorcycle',\n",
       "       'accident_involving_truck', 'accident_involving_other',\n",
       "       'road_condition', 'coordinates_1a', 'coordinates_2a', 'coordinates_1b',\n",
       "       'coordinates_2b'],\n",
       "      dtype='object')"
      ]
     },
     "execution_count": 18,
     "metadata": {},
     "output_type": "execute_result"
    }
   ],
   "source": [
    "data2.rename(columns={\n",
    "    \"OBJECTID\": \"object_id\",\n",
    "    \"LAND\": \"federal_state\",\n",
    "    \"BEZ\": \"district\",\n",
    "    \"LOR_ab_2021\": \"lor_2021\",\n",
    "    \"STRASSE\": \"street\",\n",
    "    \"UJAHR\": \"year_accident\",\n",
    "    \"UMONAT\": \"month_accident\",\n",
    "    \"USTUNDE\": \"hour_accident\",\n",
    "    \"UWOCHENTAG\": \"weekday\",\n",
    "    \"UKATEGORIE\": \"accident_category\",\n",
    "    \"UART\": \"accident_type\",\n",
    "    \"UTYP1\": \"accident_subtype\",\n",
    "    \"ULICHTVERH\": \"light_conditions\",\n",
    "    \"IstRad\": \"accident_involving_bicycle\",\n",
    "    \"IstPKW\": \"accident_involving_passenger_car\",\n",
    "    \"IstFuss\": \"accident_involving_pedestrian\",\n",
    "    \"IstKrad\": \"accident_involving_motorcycle\",\n",
    "    \"IstGkfz\": \"accident_involving_truck\",\n",
    "    \"IstSonstige\": \"accident_involving_other\",\n",
    "    \"USTRZUSTAND\": \"road_condition\",\n",
    "    \"LINREFX\": \"coordinates_1a\",\n",
    "    \"LINREFY\": \"coordinates_2a\",\n",
    "    \"XGCSWGS84\": \"coordinates_1b\",\n",
    "    \"YGCSWGS84\": \"coordinates_2b\",   \n",
    "}, inplace=True)\n",
    "data2.columns"
   ]
  },
  {
   "cell_type": "markdown",
   "id": "5db3c784-d9b2-406f-a2e1-843b9bd132ad",
   "metadata": {},
   "source": [
    "The are no values to translate in File 2"
   ]
  },
  {
   "cell_type": "markdown",
   "id": "74b41338-23e3-451a-b0cc-78253dec3eb4",
   "metadata": {},
   "source": [
    "1.3 Check for missing values and duplicates"
   ]
  },
  {
   "cell_type": "code",
   "execution_count": 19,
   "id": "d960653d-0179-4ef4-92d5-743849413560",
   "metadata": {},
   "outputs": [
    {
     "data": {
      "text/plain": [
       "called_at_date         0\n",
       "start_date_incident    0\n",
       "start_time_crime       0\n",
       "end_date_incident      0\n",
       "end_time_crime         0\n",
       "lor                    0\n",
       "loss_amount            0\n",
       "attempt                0\n",
       "bicycle_type           0\n",
       "crime_type             0\n",
       "record_type            0\n",
       "dtype: int64"
      ]
     },
     "execution_count": 19,
     "metadata": {},
     "output_type": "execute_result"
    }
   ],
   "source": [
    "missing_values = data1.isna()\n",
    "missing_counts = missing_values.sum()\n",
    "missing_counts"
   ]
  },
  {
   "cell_type": "markdown",
   "id": "19f5e8e0-ac93-4d1d-8222-1647013a37f9",
   "metadata": {},
   "source": [
    "There are no missing values, but in the column 'attempt' there is an unique value 'unknown', which will be left as it is,\n",
    "as we don`t need this column for the analysis."
   ]
  },
  {
   "cell_type": "markdown",
   "id": "e17f350c-a354-4fe4-8d05-a2cbe70f588a",
   "metadata": {},
   "source": [
    "Checking for duplicates"
   ]
  },
  {
   "cell_type": "code",
   "execution_count": 20,
   "id": "b1f3e42d-00a3-4c86-be3b-efd34f097f68",
   "metadata": {},
   "outputs": [
    {
     "data": {
      "text/plain": [
       "array([False,  True])"
      ]
     },
     "execution_count": 20,
     "metadata": {},
     "output_type": "execute_result"
    }
   ],
   "source": [
    "duplicates = data1.duplicated()\n",
    "duplicates.unique()"
   ]
  },
  {
   "cell_type": "code",
   "execution_count": 21,
   "id": "96758f82-7f56-465a-b108-6368839f93f7",
   "metadata": {},
   "outputs": [
    {
     "data": {
      "text/plain": [
       "0.21938672584224328"
      ]
     },
     "execution_count": 21,
     "metadata": {},
     "output_type": "execute_result"
    }
   ],
   "source": [
    "duplicates.sum()/39656*100"
   ]
  },
  {
   "cell_type": "markdown",
   "id": "1ed0670d-086d-4b69-86c4-3b381cd15bd5",
   "metadata": {},
   "source": [
    "Percentage of duplicates is so low <1%, that we can proceed to drop the duplicated raws."
   ]
  },
  {
   "cell_type": "code",
   "execution_count": 22,
   "id": "18e2b2e6-1f86-4650-ab57-001edc3a3119",
   "metadata": {},
   "outputs": [
    {
     "data": {
      "text/html": [
       "<div>\n",
       "<style scoped>\n",
       "    .dataframe tbody tr th:only-of-type {\n",
       "        vertical-align: middle;\n",
       "    }\n",
       "\n",
       "    .dataframe tbody tr th {\n",
       "        vertical-align: top;\n",
       "    }\n",
       "\n",
       "    .dataframe thead th {\n",
       "        text-align: right;\n",
       "    }\n",
       "</style>\n",
       "<table border=\"1\" class=\"dataframe\">\n",
       "  <thead>\n",
       "    <tr style=\"text-align: right;\">\n",
       "      <th></th>\n",
       "      <th>called_at_date</th>\n",
       "      <th>start_date_incident</th>\n",
       "      <th>start_time_crime</th>\n",
       "      <th>end_date_incident</th>\n",
       "      <th>end_time_crime</th>\n",
       "      <th>lor</th>\n",
       "      <th>loss_amount</th>\n",
       "      <th>attempt</th>\n",
       "      <th>bicycle_type</th>\n",
       "      <th>crime_type</th>\n",
       "      <th>record_type</th>\n",
       "    </tr>\n",
       "  </thead>\n",
       "  <tbody>\n",
       "    <tr>\n",
       "      <th>0</th>\n",
       "      <td>30.09.2023</td>\n",
       "      <td>29.09.2023</td>\n",
       "      <td>6</td>\n",
       "      <td>29.09.2023</td>\n",
       "      <td>15</td>\n",
       "      <td>6100102</td>\n",
       "      <td>770</td>\n",
       "      <td>No</td>\n",
       "      <td>Bicycle</td>\n",
       "      <td>Bicycle Theft</td>\n",
       "      <td>Miscellaneous Aggravated Bicycle Theft</td>\n",
       "    </tr>\n",
       "    <tr>\n",
       "      <th>1</th>\n",
       "      <td>30.09.2023</td>\n",
       "      <td>29.09.2023</td>\n",
       "      <td>16</td>\n",
       "      <td>30.09.2023</td>\n",
       "      <td>5</td>\n",
       "      <td>3200207</td>\n",
       "      <td>0</td>\n",
       "      <td>No</td>\n",
       "      <td>Mountain Bike</td>\n",
       "      <td>Bicycle Theft</td>\n",
       "      <td>Miscellaneous Aggravated Bicycle Theft</td>\n",
       "    </tr>\n",
       "    <tr>\n",
       "      <th>2</th>\n",
       "      <td>30.09.2023</td>\n",
       "      <td>28.09.2023</td>\n",
       "      <td>12</td>\n",
       "      <td>30.09.2023</td>\n",
       "      <td>11</td>\n",
       "      <td>4300412</td>\n",
       "      <td>1058</td>\n",
       "      <td>No</td>\n",
       "      <td>Other Bicycle</td>\n",
       "      <td>Cellar or Property Break and Enter</td>\n",
       "      <td>Miscellaneous Aggravated Theft from Bicycle Ce...</td>\n",
       "    </tr>\n",
       "    <tr>\n",
       "      <th>3</th>\n",
       "      <td>30.09.2023</td>\n",
       "      <td>29.09.2023</td>\n",
       "      <td>19</td>\n",
       "      <td>30.09.2023</td>\n",
       "      <td>8</td>\n",
       "      <td>9502042</td>\n",
       "      <td>200</td>\n",
       "      <td>No</td>\n",
       "      <td>Ladies Bicycle</td>\n",
       "      <td>Bicycle Theft</td>\n",
       "      <td>Miscellaneous Aggravated Bicycle Theft</td>\n",
       "    </tr>\n",
       "    <tr>\n",
       "      <th>4</th>\n",
       "      <td>30.09.2023</td>\n",
       "      <td>30.09.2023</td>\n",
       "      <td>13</td>\n",
       "      <td>30.09.2023</td>\n",
       "      <td>14</td>\n",
       "      <td>3601243</td>\n",
       "      <td>489</td>\n",
       "      <td>No</td>\n",
       "      <td>Ladies Bicycle</td>\n",
       "      <td>Bicycle Theft</td>\n",
       "      <td>Miscellaneous Aggravated Bicycle Theft</td>\n",
       "    </tr>\n",
       "    <tr>\n",
       "      <th>...</th>\n",
       "      <td>...</td>\n",
       "      <td>...</td>\n",
       "      <td>...</td>\n",
       "      <td>...</td>\n",
       "      <td>...</td>\n",
       "      <td>...</td>\n",
       "      <td>...</td>\n",
       "      <td>...</td>\n",
       "      <td>...</td>\n",
       "      <td>...</td>\n",
       "      <td>...</td>\n",
       "    </tr>\n",
       "    <tr>\n",
       "      <th>39651</th>\n",
       "      <td>02.01.2022</td>\n",
       "      <td>02.01.2022</td>\n",
       "      <td>8</td>\n",
       "      <td>02.01.2022</td>\n",
       "      <td>17</td>\n",
       "      <td>7200413</td>\n",
       "      <td>660</td>\n",
       "      <td>No</td>\n",
       "      <td>Ladies Bicycle</td>\n",
       "      <td>Bicycle Theft</td>\n",
       "      <td>Miscellaneous Aggravated Bicycle Theft</td>\n",
       "    </tr>\n",
       "    <tr>\n",
       "      <th>39652</th>\n",
       "      <td>01.01.2022</td>\n",
       "      <td>01.01.2022</td>\n",
       "      <td>14</td>\n",
       "      <td>01.01.2022</td>\n",
       "      <td>14</td>\n",
       "      <td>3601142</td>\n",
       "      <td>1000</td>\n",
       "      <td>No</td>\n",
       "      <td>Herrenfahrrad</td>\n",
       "      <td>Bicycle Theft</td>\n",
       "      <td>Simple Bicycle Theft</td>\n",
       "    </tr>\n",
       "    <tr>\n",
       "      <th>39653</th>\n",
       "      <td>01.01.2022</td>\n",
       "      <td>01.01.2022</td>\n",
       "      <td>16</td>\n",
       "      <td>01.01.2022</td>\n",
       "      <td>19</td>\n",
       "      <td>2400623</td>\n",
       "      <td>1754</td>\n",
       "      <td>No</td>\n",
       "      <td>Herrenfahrrad</td>\n",
       "      <td>Bicycle Theft</td>\n",
       "      <td>Miscellaneous Aggravated Bicycle Theft</td>\n",
       "    </tr>\n",
       "    <tr>\n",
       "      <th>39654</th>\n",
       "      <td>01.01.2022</td>\n",
       "      <td>01.01.2022</td>\n",
       "      <td>4</td>\n",
       "      <td>01.01.2022</td>\n",
       "      <td>8</td>\n",
       "      <td>2100106</td>\n",
       "      <td>190</td>\n",
       "      <td>No</td>\n",
       "      <td>Herrenfahrrad</td>\n",
       "      <td>Bicycle Theft</td>\n",
       "      <td>Miscellaneous Aggravated Bicycle Theft</td>\n",
       "    </tr>\n",
       "    <tr>\n",
       "      <th>39655</th>\n",
       "      <td>01.01.2022</td>\n",
       "      <td>01.01.2022</td>\n",
       "      <td>20</td>\n",
       "      <td>01.01.2022</td>\n",
       "      <td>20</td>\n",
       "      <td>1300730</td>\n",
       "      <td>150</td>\n",
       "      <td>No</td>\n",
       "      <td>Herrenfahrrad</td>\n",
       "      <td>Bicycle Theft</td>\n",
       "      <td>Miscellaneous Aggravated Bicycle Theft</td>\n",
       "    </tr>\n",
       "  </tbody>\n",
       "</table>\n",
       "<p>39569 rows × 11 columns</p>\n",
       "</div>"
      ],
      "text/plain": [
       "      called_at_date start_date_incident  start_time_crime end_date_incident  \\\n",
       "0         30.09.2023          29.09.2023                 6        29.09.2023   \n",
       "1         30.09.2023          29.09.2023                16        30.09.2023   \n",
       "2         30.09.2023          28.09.2023                12        30.09.2023   \n",
       "3         30.09.2023          29.09.2023                19        30.09.2023   \n",
       "4         30.09.2023          30.09.2023                13        30.09.2023   \n",
       "...              ...                 ...               ...               ...   \n",
       "39651     02.01.2022          02.01.2022                 8        02.01.2022   \n",
       "39652     01.01.2022          01.01.2022                14        01.01.2022   \n",
       "39653     01.01.2022          01.01.2022                16        01.01.2022   \n",
       "39654     01.01.2022          01.01.2022                 4        01.01.2022   \n",
       "39655     01.01.2022          01.01.2022                20        01.01.2022   \n",
       "\n",
       "       end_time_crime      lor  loss_amount attempt    bicycle_type  \\\n",
       "0                  15  6100102          770      No         Bicycle   \n",
       "1                   5  3200207            0      No   Mountain Bike   \n",
       "2                  11  4300412         1058      No   Other Bicycle   \n",
       "3                   8  9502042          200      No  Ladies Bicycle   \n",
       "4                  14  3601243          489      No  Ladies Bicycle   \n",
       "...               ...      ...          ...     ...             ...   \n",
       "39651              17  7200413          660      No  Ladies Bicycle   \n",
       "39652              14  3601142         1000      No   Herrenfahrrad   \n",
       "39653              19  2400623         1754      No   Herrenfahrrad   \n",
       "39654               8  2100106          190      No   Herrenfahrrad   \n",
       "39655              20  1300730          150      No   Herrenfahrrad   \n",
       "\n",
       "                               crime_type  \\\n",
       "0                           Bicycle Theft   \n",
       "1                           Bicycle Theft   \n",
       "2      Cellar or Property Break and Enter   \n",
       "3                           Bicycle Theft   \n",
       "4                           Bicycle Theft   \n",
       "...                                   ...   \n",
       "39651                       Bicycle Theft   \n",
       "39652                       Bicycle Theft   \n",
       "39653                       Bicycle Theft   \n",
       "39654                       Bicycle Theft   \n",
       "39655                       Bicycle Theft   \n",
       "\n",
       "                                             record_type  \n",
       "0                 Miscellaneous Aggravated Bicycle Theft  \n",
       "1                 Miscellaneous Aggravated Bicycle Theft  \n",
       "2      Miscellaneous Aggravated Theft from Bicycle Ce...  \n",
       "3                 Miscellaneous Aggravated Bicycle Theft  \n",
       "4                 Miscellaneous Aggravated Bicycle Theft  \n",
       "...                                                  ...  \n",
       "39651             Miscellaneous Aggravated Bicycle Theft  \n",
       "39652                               Simple Bicycle Theft  \n",
       "39653             Miscellaneous Aggravated Bicycle Theft  \n",
       "39654             Miscellaneous Aggravated Bicycle Theft  \n",
       "39655             Miscellaneous Aggravated Bicycle Theft  \n",
       "\n",
       "[39569 rows x 11 columns]"
      ]
     },
     "execution_count": 22,
     "metadata": {},
     "output_type": "execute_result"
    }
   ],
   "source": [
    "data1.drop_duplicates()"
   ]
  },
  {
   "cell_type": "code",
   "execution_count": 28,
   "id": "2ea57063-ae95-44c8-a0d5-0da695dc9fa7",
   "metadata": {},
   "outputs": [
    {
     "data": {
      "text/plain": [
       "object_id                           0\n",
       "federal_state                       0\n",
       "district                            0\n",
       "lor_2021                            1\n",
       "year_accident                       0\n",
       "month_accident                      0\n",
       "hour_accident                       0\n",
       "weekday                             0\n",
       "accident_category                   0\n",
       "accident_type                       0\n",
       "accident_subtype                    0\n",
       "light_conditions                    0\n",
       "accident_involving_bicycle          0\n",
       "accident_involving_passenger_car    0\n",
       "accident_involving_pedestrian       0\n",
       "accident_involving_motorcycle       0\n",
       "accident_involving_truck            0\n",
       "accident_involving_other            0\n",
       "road_condition                      0\n",
       "coordinates_1a                      0\n",
       "coordinates_2a                      0\n",
       "coordinates_1b                      0\n",
       "coordinates_2b                      0\n",
       "dtype: int64"
      ]
     },
     "execution_count": 28,
     "metadata": {},
     "output_type": "execute_result"
    }
   ],
   "source": [
    "missing_values = data2.isna()\n",
    "missing_counts = missing_values.sum()\n",
    "missing_counts"
   ]
  },
  {
   "cell_type": "markdown",
   "id": "eadf7b62-ce79-485a-85b8-fffa8b83f090",
   "metadata": {},
   "source": [
    "There is only one missing value in the column 'lor_2021', dropping it will not affect our analysis significantly."
   ]
  },
  {
   "cell_type": "code",
   "execution_count": 31,
   "id": "243149b2-0f87-486a-8ecd-0776c64e127e",
   "metadata": {},
   "outputs": [
    {
     "data": {
      "text/html": [
       "<div>\n",
       "<style scoped>\n",
       "    .dataframe tbody tr th:only-of-type {\n",
       "        vertical-align: middle;\n",
       "    }\n",
       "\n",
       "    .dataframe tbody tr th {\n",
       "        vertical-align: top;\n",
       "    }\n",
       "\n",
       "    .dataframe thead th {\n",
       "        text-align: right;\n",
       "    }\n",
       "</style>\n",
       "<table border=\"1\" class=\"dataframe\">\n",
       "  <thead>\n",
       "    <tr style=\"text-align: right;\">\n",
       "      <th></th>\n",
       "      <th>object_id</th>\n",
       "      <th>federal_state</th>\n",
       "      <th>district</th>\n",
       "      <th>lor_2021</th>\n",
       "      <th>year_accident</th>\n",
       "      <th>month_accident</th>\n",
       "      <th>hour_accident</th>\n",
       "      <th>weekday</th>\n",
       "      <th>accident_category</th>\n",
       "      <th>accident_type</th>\n",
       "      <th>...</th>\n",
       "      <th>accident_involving_passenger_car</th>\n",
       "      <th>accident_involving_pedestrian</th>\n",
       "      <th>accident_involving_motorcycle</th>\n",
       "      <th>accident_involving_truck</th>\n",
       "      <th>accident_involving_other</th>\n",
       "      <th>road_condition</th>\n",
       "      <th>coordinates_1a</th>\n",
       "      <th>coordinates_2a</th>\n",
       "      <th>coordinates_1b</th>\n",
       "      <th>coordinates_2b</th>\n",
       "    </tr>\n",
       "  </thead>\n",
       "  <tbody>\n",
       "    <tr>\n",
       "      <th>4766</th>\n",
       "      <td>214125</td>\n",
       "      <td>11</td>\n",
       "      <td>9</td>\n",
       "      <td>NaN</td>\n",
       "      <td>2021</td>\n",
       "      <td>8</td>\n",
       "      <td>10</td>\n",
       "      <td>2</td>\n",
       "      <td>3</td>\n",
       "      <td>0</td>\n",
       "      <td>...</td>\n",
       "      <td>1</td>\n",
       "      <td>0</td>\n",
       "      <td>0</td>\n",
       "      <td>0</td>\n",
       "      <td>0</td>\n",
       "      <td>0</td>\n",
       "      <td>808645,9485</td>\n",
       "      <td>5815247,518</td>\n",
       "      <td>13,53768007</td>\n",
       "      <td>52,40023729</td>\n",
       "    </tr>\n",
       "  </tbody>\n",
       "</table>\n",
       "<p>1 rows × 23 columns</p>\n",
       "</div>"
      ],
      "text/plain": [
       "      object_id  federal_state  district  lor_2021  year_accident  \\\n",
       "4766     214125             11         9       NaN           2021   \n",
       "\n",
       "      month_accident  hour_accident  weekday  accident_category  \\\n",
       "4766               8             10        2                  3   \n",
       "\n",
       "      accident_type  ...  accident_involving_passenger_car  \\\n",
       "4766              0  ...                                 1   \n",
       "\n",
       "      accident_involving_pedestrian  accident_involving_motorcycle  \\\n",
       "4766                              0                              0   \n",
       "\n",
       "      accident_involving_truck  accident_involving_other  road_condition  \\\n",
       "4766                         0                         0               0   \n",
       "\n",
       "      coordinates_1a  coordinates_2a  coordinates_1b coordinates_2b  \n",
       "4766     808645,9485     5815247,518     13,53768007    52,40023729  \n",
       "\n",
       "[1 rows x 23 columns]"
      ]
     },
     "execution_count": 31,
     "metadata": {},
     "output_type": "execute_result"
    }
   ],
   "source": [
    "data2[data2['lor_2021'].isna()==True]"
   ]
  },
  {
   "cell_type": "code",
   "execution_count": 49,
   "id": "b357cd21-cb2c-46ad-b95b-6807529f0926",
   "metadata": {},
   "outputs": [],
   "source": [
    "data2.replace('NaN', np.nan, inplace=True)\n",
    "data2.dropna(inplace=True)"
   ]
  },
  {
   "cell_type": "code",
   "execution_count": 50,
   "id": "0f1d862a-e20e-4489-86f5-74540f73f804",
   "metadata": {},
   "outputs": [
    {
     "data": {
      "text/html": [
       "<div>\n",
       "<style scoped>\n",
       "    .dataframe tbody tr th:only-of-type {\n",
       "        vertical-align: middle;\n",
       "    }\n",
       "\n",
       "    .dataframe tbody tr th {\n",
       "        vertical-align: top;\n",
       "    }\n",
       "\n",
       "    .dataframe thead th {\n",
       "        text-align: right;\n",
       "    }\n",
       "</style>\n",
       "<table border=\"1\" class=\"dataframe\">\n",
       "  <thead>\n",
       "    <tr style=\"text-align: right;\">\n",
       "      <th></th>\n",
       "      <th>object_id</th>\n",
       "      <th>federal_state</th>\n",
       "      <th>district</th>\n",
       "      <th>lor_2021</th>\n",
       "      <th>year_accident</th>\n",
       "      <th>month_accident</th>\n",
       "      <th>hour_accident</th>\n",
       "      <th>weekday</th>\n",
       "      <th>accident_category</th>\n",
       "      <th>accident_type</th>\n",
       "      <th>...</th>\n",
       "      <th>accident_involving_passenger_car</th>\n",
       "      <th>accident_involving_pedestrian</th>\n",
       "      <th>accident_involving_motorcycle</th>\n",
       "      <th>accident_involving_truck</th>\n",
       "      <th>accident_involving_other</th>\n",
       "      <th>road_condition</th>\n",
       "      <th>coordinates_1a</th>\n",
       "      <th>coordinates_2a</th>\n",
       "      <th>coordinates_1b</th>\n",
       "      <th>coordinates_2b</th>\n",
       "    </tr>\n",
       "  </thead>\n",
       "  <tbody>\n",
       "  </tbody>\n",
       "</table>\n",
       "<p>0 rows × 23 columns</p>\n",
       "</div>"
      ],
      "text/plain": [
       "Empty DataFrame\n",
       "Columns: [object_id, federal_state, district, lor_2021, year_accident, month_accident, hour_accident, weekday, accident_category, accident_type, accident_subtype, light_conditions, accident_involving_bicycle, accident_involving_passenger_car, accident_involving_pedestrian, accident_involving_motorcycle, accident_involving_truck, accident_involving_other, road_condition, coordinates_1a, coordinates_2a, coordinates_1b, coordinates_2b]\n",
       "Index: []\n",
       "\n",
       "[0 rows x 23 columns]"
      ]
     },
     "execution_count": 50,
     "metadata": {},
     "output_type": "execute_result"
    }
   ],
   "source": [
    "data2[data2['lor_2021'].isna()==True]"
   ]
  },
  {
   "cell_type": "code",
   "execution_count": 35,
   "id": "68da8a9a-66e8-4b9e-b6fc-607c3ef80c1f",
   "metadata": {},
   "outputs": [
    {
     "data": {
      "text/plain": [
       "array([False])"
      ]
     },
     "execution_count": 35,
     "metadata": {},
     "output_type": "execute_result"
    }
   ],
   "source": [
    "duplicates = data2.duplicated()\n",
    "duplicates.unique()"
   ]
  },
  {
   "cell_type": "markdown",
   "id": "f163dfed-511e-488e-b32c-5652e255441b",
   "metadata": {},
   "source": [
    "There are no duplicates in File 2. "
   ]
  },
  {
   "cell_type": "markdown",
   "id": "c3dca785-b0c3-4398-8a0c-06c3f8b7f6cd",
   "metadata": {},
   "source": [
    "1.4. Checking data types"
   ]
  },
  {
   "cell_type": "code",
   "execution_count": 36,
   "id": "1e6740c9-5252-46e9-b401-e6267bc5bace",
   "metadata": {},
   "outputs": [
    {
     "name": "stdout",
     "output_type": "stream",
     "text": [
      "<class 'pandas.core.frame.DataFrame'>\n",
      "RangeIndex: 39656 entries, 0 to 39655\n",
      "Data columns (total 11 columns):\n",
      " #   Column               Non-Null Count  Dtype \n",
      "---  ------               --------------  ----- \n",
      " 0   called_at_date       39656 non-null  object\n",
      " 1   start_date_incident  39656 non-null  object\n",
      " 2   start_time_crime     39656 non-null  int64 \n",
      " 3   end_date_incident    39656 non-null  object\n",
      " 4   end_time_crime       39656 non-null  int64 \n",
      " 5   lor                  39656 non-null  int64 \n",
      " 6   loss_amount          39656 non-null  int64 \n",
      " 7   attempt              39656 non-null  object\n",
      " 8   bicycle_type         39656 non-null  object\n",
      " 9   crime_type           39656 non-null  object\n",
      " 10  record_type          39656 non-null  object\n",
      "dtypes: int64(4), object(7)\n",
      "memory usage: 3.3+ MB\n"
     ]
    }
   ],
   "source": [
    "data1.info()"
   ]
  },
  {
   "cell_type": "markdown",
   "id": "0a2c8c3a-0435-4429-9941-4d7511cbab33",
   "metadata": {},
   "source": [
    "All of the columns with date values are of type object, which is fine for now. "
   ]
  },
  {
   "cell_type": "code",
   "execution_count": 37,
   "id": "e8637d9b-3e5a-444e-bd28-570e07d59d8f",
   "metadata": {},
   "outputs": [
    {
     "name": "stdout",
     "output_type": "stream",
     "text": [
      "<class 'pandas.core.frame.DataFrame'>\n",
      "RangeIndex: 11267 entries, 0 to 11266\n",
      "Data columns (total 23 columns):\n",
      " #   Column                            Non-Null Count  Dtype  \n",
      "---  ------                            --------------  -----  \n",
      " 0   object_id                         11267 non-null  int64  \n",
      " 1   federal_state                     11267 non-null  int64  \n",
      " 2   district                          11267 non-null  int64  \n",
      " 3   lor_2021                          11266 non-null  float64\n",
      " 4   year_accident                     11267 non-null  int64  \n",
      " 5   month_accident                    11267 non-null  int64  \n",
      " 6   hour_accident                     11267 non-null  int64  \n",
      " 7   weekday                           11267 non-null  int64  \n",
      " 8   accident_category                 11267 non-null  int64  \n",
      " 9   accident_type                     11267 non-null  int64  \n",
      " 10  accident_subtype                  11267 non-null  int64  \n",
      " 11  light_conditions                  11267 non-null  int64  \n",
      " 12  accident_involving_bicycle        11267 non-null  int64  \n",
      " 13  accident_involving_passenger_car  11267 non-null  int64  \n",
      " 14  accident_involving_pedestrian     11267 non-null  int64  \n",
      " 15  accident_involving_motorcycle     11267 non-null  int64  \n",
      " 16  accident_involving_truck          11267 non-null  int64  \n",
      " 17  accident_involving_other          11267 non-null  int64  \n",
      " 18  road_condition                    11267 non-null  int64  \n",
      " 19  coordinates_1a                    11267 non-null  object \n",
      " 20  coordinates_2a                    11267 non-null  object \n",
      " 21  coordinates_1b                    11267 non-null  object \n",
      " 22  coordinates_2b                    11267 non-null  object \n",
      "dtypes: float64(1), int64(18), object(4)\n",
      "memory usage: 2.0+ MB\n"
     ]
    }
   ],
   "source": [
    "data2.info()"
   ]
  },
  {
   "cell_type": "markdown",
   "id": "d2502193-bcae-46c9-bc23-b037a44d6c87",
   "metadata": {},
   "source": [
    "The values of the columns data1['lor'] and data2['lor_2021'] both contain the same unique identification numbers of the so called\n",
    "\"Living environment oriented spaces (LOR) are a spatial basis for planning, forecasting and monitoring demographic and social developments in Berlin.\" Source: Wikipedia\n",
    "We are going to use these to identify the districs. As any ID containing only numbers \n",
    "data1['lor'] is type int64 and data2['lor_2021'] is type float64. We are going to trasnform the latest to type int64."
   ]
  },
  {
   "cell_type": "code",
   "execution_count": 51,
   "id": "85bd9329-8291-4063-8ca1-08e19df463af",
   "metadata": {},
   "outputs": [],
   "source": [
    "data2['lor_2021'] = data2['lor_2021'].astype(int)"
   ]
  },
  {
   "cell_type": "code",
   "execution_count": 56,
   "id": "b1b580ae-ef01-49c8-817e-ee48876d9f7b",
   "metadata": {},
   "outputs": [
    {
     "name": "stdout",
     "output_type": "stream",
     "text": [
      "<class 'pandas.core.frame.DataFrame'>\n",
      "Index: 11266 entries, 0 to 11266\n",
      "Data columns (total 23 columns):\n",
      " #   Column                            Non-Null Count  Dtype \n",
      "---  ------                            --------------  ----- \n",
      " 0   object_id                         11266 non-null  int64 \n",
      " 1   federal_state                     11266 non-null  int64 \n",
      " 2   district                          11266 non-null  int64 \n",
      " 3   lor_2021                          11266 non-null  int32 \n",
      " 4   year_accident                     11266 non-null  int64 \n",
      " 5   month_accident                    11266 non-null  int64 \n",
      " 6   hour_accident                     11266 non-null  int64 \n",
      " 7   weekday                           11266 non-null  int64 \n",
      " 8   accident_category                 11266 non-null  int64 \n",
      " 9   accident_type                     11266 non-null  int64 \n",
      " 10  accident_subtype                  11266 non-null  int64 \n",
      " 11  light_conditions                  11266 non-null  int64 \n",
      " 12  accident_involving_bicycle        11266 non-null  int64 \n",
      " 13  accident_involving_passenger_car  11266 non-null  int64 \n",
      " 14  accident_involving_pedestrian     11266 non-null  int64 \n",
      " 15  accident_involving_motorcycle     11266 non-null  int64 \n",
      " 16  accident_involving_truck          11266 non-null  int64 \n",
      " 17  accident_involving_other          11266 non-null  int64 \n",
      " 18  road_condition                    11266 non-null  int64 \n",
      " 19  coordinates_1a                    11266 non-null  object\n",
      " 20  coordinates_2a                    11266 non-null  object\n",
      " 21  coordinates_1b                    11266 non-null  object\n",
      " 22  coordinates_2b                    11266 non-null  object\n",
      "dtypes: int32(1), int64(18), object(4)\n",
      "memory usage: 2.0+ MB\n"
     ]
    }
   ],
   "source": [
    "data2.info()"
   ]
  },
  {
   "cell_type": "code",
   "execution_count": null,
   "id": "7bad20b4-94c1-4b0e-8c8a-ae0c46f3755d",
   "metadata": {},
   "outputs": [],
   "source": []
  }
 ],
 "metadata": {
  "kernelspec": {
   "display_name": "env_project",
   "language": "python",
   "name": "env_project"
  },
  "language_info": {
   "codemirror_mode": {
    "name": "ipython",
    "version": 3
   },
   "file_extension": ".py",
   "mimetype": "text/x-python",
   "name": "python",
   "nbconvert_exporter": "python",
   "pygments_lexer": "ipython3",
   "version": "3.11.4"
  }
 },
 "nbformat": 4,
 "nbformat_minor": 5
}
